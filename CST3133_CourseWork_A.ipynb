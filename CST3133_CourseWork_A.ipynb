{
  "nbformat": 4,
  "nbformat_minor": 0,
  "metadata": {
    "colab": {
      "provenance": [],
      "toc_visible": true,
      "include_colab_link": true
    },
    "kernelspec": {
      "name": "python3",
      "display_name": "Python 3"
    },
    "language_info": {
      "name": "python"
    }
  },
  "cells": [
    {
      "cell_type": "markdown",
      "metadata": {
        "id": "view-in-github",
        "colab_type": "text"
      },
      "source": [
        "<a href=\"https://colab.research.google.com/github/Mi1kDev/CST3133_CW/blob/main/CST3133_CourseWork_A.ipynb\" target=\"_parent\"><img src=\"https://colab.research.google.com/assets/colab-badge.svg\" alt=\"Open In Colab\"/></a>"
      ]
    },
    {
      "cell_type": "markdown",
      "source": [
        "# Machine Learning CW 1\n"
      ],
      "metadata": {
        "id": "6IVsnA2eHj1a"
      }
    },
    {
      "cell_type": "markdown",
      "source": [
        "Connecting the project to google drive for easy members access"
      ],
      "metadata": {
        "id": "zrzn7-lXBnf1"
      }
    },
    {
      "cell_type": "code",
      "execution_count": null,
      "metadata": {
        "id": "vEjoSvTY9XSP",
        "colab": {
          "base_uri": "https://localhost:8080/"
        },
        "outputId": "931326c8-88b3-41a4-995a-5fbda3f169b4"
      },
      "outputs": [
        {
          "output_type": "stream",
          "name": "stdout",
          "text": [
            "Mounted at /content/drive\n"
          ]
        }
      ],
      "source": [
        "from google.colab import drive\n",
        "drive.mount(\"/content/drive\")"
      ]
    },
    {
      "cell_type": "markdown",
      "source": [
        "# 1.1.1 Dataset Selection and Problem Definition"
      ],
      "metadata": {
        "id": "hSxPV2ASHvpy"
      }
    },
    {
      "cell_type": "markdown",
      "source": [
        "-- clustering problem\n",
        "\n",
        "-- database from kaggle link bellow\n",
        "\n",
        "https://www.kaggle.com/code/mervanmunis/bank-transaction-for-fraud-detection-eda-ml\n",
        "\n"
      ],
      "metadata": {
        "id": "OpA4PGSFBtqJ"
      }
    },
    {
      "cell_type": "code",
      "source": [
        "# importing all necessary libraries"
      ],
      "metadata": {
        "id": "Erxwfv6TD0HQ"
      },
      "execution_count": null,
      "outputs": []
    },
    {
      "cell_type": "code",
      "source": [
        "import pandas as pd\n",
        "import numpy as np\n",
        "import matplotlib.pyplot as plt\n",
        "import seaborn as sns\n",
        "\n",
        "dataset = pd.read_csv(\"/content/drive/MyDrive/CST3133_CW/datasets/test.csv\")\n",
        "print(dataset.head())"
      ],
      "metadata": {
        "id": "91DNLg-iA_t1",
        "colab": {
          "base_uri": "https://localhost:8080/"
        },
        "outputId": "e79e01c8-5dd2-4b06-ed8e-f6e5b0ce71af"
      },
      "execution_count": null,
      "outputs": [
        {
          "output_type": "stream",
          "name": "stdout",
          "text": [
            "  TransactionID AccountID  TransactionAmount      TransactionDate  \\\n",
            "0      TX000001   AC00128              14.09  2023-04-11 16:29:14   \n",
            "1      TX000002   AC00455             376.24  2023-06-27 16:44:19   \n",
            "2      TX000003   AC00019             126.29  2023-07-10 18:16:08   \n",
            "3      TX000004   AC00070             184.50  2023-05-05 16:32:11   \n",
            "4      TX000005   AC00411              13.45  2023-10-16 17:51:24   \n",
            "\n",
            "  TransactionType   Location DeviceID      IP Address MerchantID Channel  \\\n",
            "0           Debit  San Diego  D000380  162.198.218.92       M015     ATM   \n",
            "1           Debit    Houston  D000051     13.149.61.4       M052     ATM   \n",
            "2           Debit       Mesa  D000235  215.97.143.157       M009  Online   \n",
            "3           Debit    Raleigh  D000187  200.13.225.150       M002  Online   \n",
            "4          Credit    Atlanta  D000308    65.164.3.100       M091  Online   \n",
            "\n",
            "   CustomerAge CustomerOccupation  TransactionDuration  LoginAttempts  \\\n",
            "0           70             Doctor                   81              1   \n",
            "1           68             Doctor                  141              1   \n",
            "2           19            Student                   56              1   \n",
            "3           26            Student                   25              1   \n",
            "4           26            Student                  198              1   \n",
            "\n",
            "   AccountBalance PreviousTransactionDate  \n",
            "0         5112.21     2024-11-04 08:08:08  \n",
            "1        13758.91     2024-11-04 08:09:35  \n",
            "2         1122.35     2024-11-04 08:07:04  \n",
            "3         8569.06     2024-11-04 08:09:06  \n",
            "4         7429.40     2024-11-04 08:06:39  \n"
          ]
        }
      ]
    },
    {
      "cell_type": "code",
      "source": [
        "print(dataset.describe())"
      ],
      "metadata": {
        "colab": {
          "base_uri": "https://localhost:8080/"
        },
        "id": "UXULoBJr-UV4",
        "outputId": "93beb5a1-1e7c-4f38-9132-cf1e2e3f4156"
      },
      "execution_count": null,
      "outputs": [
        {
          "output_type": "stream",
          "name": "stdout",
          "text": [
            "       TransactionAmount  CustomerAge  TransactionDuration  LoginAttempts  \\\n",
            "count        2512.000000  2512.000000          2512.000000    2512.000000   \n",
            "mean          297.593778    44.673965           119.643312       1.124602   \n",
            "std           291.946243    17.792198            69.963757       0.602662   \n",
            "min             0.260000    18.000000            10.000000       1.000000   \n",
            "25%            81.885000    27.000000            63.000000       1.000000   \n",
            "50%           211.140000    45.000000           112.500000       1.000000   \n",
            "75%           414.527500    59.000000           161.000000       1.000000   \n",
            "max          1919.110000    80.000000           300.000000       5.000000   \n",
            "\n",
            "       AccountBalance  \n",
            "count     2512.000000  \n",
            "mean      5114.302966  \n",
            "std       3900.942499  \n",
            "min        101.250000  \n",
            "25%       1504.370000  \n",
            "50%       4735.510000  \n",
            "75%       7678.820000  \n",
            "max      14977.990000  \n"
          ]
        }
      ]
    },
    {
      "cell_type": "code",
      "source": [
        "print(dataset.info())"
      ],
      "metadata": {
        "colab": {
          "base_uri": "https://localhost:8080/"
        },
        "id": "rYrPRFviC9O4",
        "outputId": "bec2c37a-1bdf-4f97-adac-a153faa695da"
      },
      "execution_count": null,
      "outputs": [
        {
          "output_type": "stream",
          "name": "stdout",
          "text": [
            "<class 'pandas.core.frame.DataFrame'>\n",
            "RangeIndex: 2512 entries, 0 to 2511\n",
            "Data columns (total 16 columns):\n",
            " #   Column                   Non-Null Count  Dtype  \n",
            "---  ------                   --------------  -----  \n",
            " 0   TransactionID            2512 non-null   object \n",
            " 1   AccountID                2512 non-null   object \n",
            " 2   TransactionAmount        2512 non-null   float64\n",
            " 3   TransactionDate          2512 non-null   object \n",
            " 4   TransactionType          2512 non-null   object \n",
            " 5   Location                 2512 non-null   object \n",
            " 6   DeviceID                 2512 non-null   object \n",
            " 7   IP Address               2512 non-null   object \n",
            " 8   MerchantID               2512 non-null   object \n",
            " 9   Channel                  2512 non-null   object \n",
            " 10  CustomerAge              2512 non-null   int64  \n",
            " 11  CustomerOccupation       2512 non-null   object \n",
            " 12  TransactionDuration      2512 non-null   int64  \n",
            " 13  LoginAttempts            2512 non-null   int64  \n",
            " 14  AccountBalance           2512 non-null   float64\n",
            " 15  PreviousTransactionDate  2512 non-null   object \n",
            "dtypes: float64(2), int64(3), object(11)\n",
            "memory usage: 314.1+ KB\n",
            "None\n"
          ]
        }
      ]
    },
    {
      "cell_type": "markdown",
      "source": [
        "# 1.1.2 Data Preprocessing (10%)"
      ],
      "metadata": {
        "id": "kzkJ88N_Hz9T"
      }
    },
    {
      "cell_type": "markdown",
      "source": [
        "Handle missing values appropriately, as required.\n",
        "\n",
        "Scale/normalize numerical features and encode categorical variable, as required.\n",
        "\n",
        "Conduct logical feature selection or engineering, as required."
      ],
      "metadata": {
        "id": "063tP3LvD7Vm"
      }
    },
    {
      "cell_type": "code",
      "source": [
        "# Checking for missing values\n",
        "missing_values = [\"n/a\", \"na\", \"--\"]\n",
        "print(dataset.isnull().sum())\n",
        "print(dataset.isnull().sum().sum())"
      ],
      "metadata": {
        "colab": {
          "base_uri": "https://localhost:8080/"
        },
        "id": "5U5Y6MOG_5zJ",
        "outputId": "7871a681-4649-4b98-b76f-142bf4b1a4e6"
      },
      "execution_count": null,
      "outputs": [
        {
          "output_type": "stream",
          "name": "stdout",
          "text": [
            "TransactionID              0\n",
            "AccountID                  0\n",
            "TransactionAmount          0\n",
            "TransactionDate            0\n",
            "TransactionType            0\n",
            "Location                   0\n",
            "DeviceID                   0\n",
            "IP Address                 0\n",
            "MerchantID                 0\n",
            "Channel                    0\n",
            "CustomerAge                0\n",
            "CustomerOccupation         0\n",
            "TransactionDuration        0\n",
            "LoginAttempts              0\n",
            "AccountBalance             0\n",
            "PreviousTransactionDate    0\n",
            "dtype: int64\n",
            "0\n"
          ]
        }
      ]
    },
    {
      "cell_type": "markdown",
      "source": [
        "# 1.1.3 Exploratory Data Analysis (10%)"
      ],
      "metadata": {
        "id": "EpLN5BZyH7-1"
      }
    },
    {
      "cell_type": "markdown",
      "source": [
        "Create insightful visualizations, e.g., histograms and correlation heatmaps.\n",
        "\n",
        "Identify and comment on trends, patterns, and potential biases in the data."
      ],
      "metadata": {
        "id": "GrNymFxdEqRU"
      }
    },
    {
      "cell_type": "code",
      "source": [],
      "metadata": {
        "id": "ykMthQEAHPwy"
      },
      "execution_count": null,
      "outputs": []
    }
  ]
}